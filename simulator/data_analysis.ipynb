{
 "cells": [
  {
   "cell_type": "code",
   "execution_count": 1,
   "metadata": {
    "collapsed": true
   },
   "outputs": [],
   "source": [
    "from simulator.animal import population"
   ]
  },
  {
   "cell_type": "code",
   "execution_count": 5,
   "outputs": [
    {
     "data": {
      "text/plain": "     alive  weight  sex_male  lifespan  age  gene_edit\nid                                                    \n300   True     276     False         6    3      False\n301   True     275     False         5    4      False\n302   True     275      True         5    3      False\n303   True     275      True         4    3      False\n304   True     276     False         4    3      False\n..     ...     ...       ...       ...  ...        ...\n395   True     274      True         6    4      False\n396   True     274      True         4    3      False\n397   True     274      True         5    3      False\n398   True     275     False         5    3      False\n399   True     275      True         6    3       True\n\n[100 rows x 6 columns]",
      "text/html": "<div>\n<style scoped>\n    .dataframe tbody tr th:only-of-type {\n        vertical-align: middle;\n    }\n\n    .dataframe tbody tr th {\n        vertical-align: top;\n    }\n\n    .dataframe thead th {\n        text-align: right;\n    }\n</style>\n<table border=\"1\" class=\"dataframe\">\n  <thead>\n    <tr style=\"text-align: right;\">\n      <th></th>\n      <th>alive</th>\n      <th>weight</th>\n      <th>sex_male</th>\n      <th>lifespan</th>\n      <th>age</th>\n      <th>gene_edit</th>\n    </tr>\n    <tr>\n      <th>id</th>\n      <th></th>\n      <th></th>\n      <th></th>\n      <th></th>\n      <th></th>\n      <th></th>\n    </tr>\n  </thead>\n  <tbody>\n    <tr>\n      <th>300</th>\n      <td>True</td>\n      <td>276</td>\n      <td>False</td>\n      <td>6</td>\n      <td>3</td>\n      <td>False</td>\n    </tr>\n    <tr>\n      <th>301</th>\n      <td>True</td>\n      <td>275</td>\n      <td>False</td>\n      <td>5</td>\n      <td>4</td>\n      <td>False</td>\n    </tr>\n    <tr>\n      <th>302</th>\n      <td>True</td>\n      <td>275</td>\n      <td>True</td>\n      <td>5</td>\n      <td>3</td>\n      <td>False</td>\n    </tr>\n    <tr>\n      <th>303</th>\n      <td>True</td>\n      <td>275</td>\n      <td>True</td>\n      <td>4</td>\n      <td>3</td>\n      <td>False</td>\n    </tr>\n    <tr>\n      <th>304</th>\n      <td>True</td>\n      <td>276</td>\n      <td>False</td>\n      <td>4</td>\n      <td>3</td>\n      <td>False</td>\n    </tr>\n    <tr>\n      <th>...</th>\n      <td>...</td>\n      <td>...</td>\n      <td>...</td>\n      <td>...</td>\n      <td>...</td>\n      <td>...</td>\n    </tr>\n    <tr>\n      <th>395</th>\n      <td>True</td>\n      <td>274</td>\n      <td>True</td>\n      <td>6</td>\n      <td>4</td>\n      <td>False</td>\n    </tr>\n    <tr>\n      <th>396</th>\n      <td>True</td>\n      <td>274</td>\n      <td>True</td>\n      <td>4</td>\n      <td>3</td>\n      <td>False</td>\n    </tr>\n    <tr>\n      <th>397</th>\n      <td>True</td>\n      <td>274</td>\n      <td>True</td>\n      <td>5</td>\n      <td>3</td>\n      <td>False</td>\n    </tr>\n    <tr>\n      <th>398</th>\n      <td>True</td>\n      <td>275</td>\n      <td>False</td>\n      <td>5</td>\n      <td>3</td>\n      <td>False</td>\n    </tr>\n    <tr>\n      <th>399</th>\n      <td>True</td>\n      <td>275</td>\n      <td>True</td>\n      <td>6</td>\n      <td>3</td>\n      <td>True</td>\n    </tr>\n  </tbody>\n</table>\n<p>100 rows × 6 columns</p>\n</div>"
     },
     "execution_count": 5,
     "metadata": {},
     "output_type": "execute_result"
    }
   ],
   "source": [
    "population.create_population_dataframe()"
   ],
   "metadata": {
    "collapsed": false
   }
  },
  {
   "cell_type": "code",
   "execution_count": null,
   "outputs": [],
   "source": [],
   "metadata": {
    "collapsed": false
   }
  }
 ],
 "metadata": {
  "kernelspec": {
   "display_name": "Python 3",
   "language": "python",
   "name": "python3"
  },
  "language_info": {
   "codemirror_mode": {
    "name": "ipython",
    "version": 2
   },
   "file_extension": ".py",
   "mimetype": "text/x-python",
   "name": "python",
   "nbconvert_exporter": "python",
   "pygments_lexer": "ipython2",
   "version": "2.7.6"
  }
 },
 "nbformat": 4,
 "nbformat_minor": 0
}
